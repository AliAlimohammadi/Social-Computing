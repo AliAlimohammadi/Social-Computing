{
  "nbformat": 4,
  "nbformat_minor": 0,
  "metadata": {
    "colab": {
      "name": "SpamDetection.ipynb",
      "provenance": [],
      "collapsed_sections": [],
      "toc_visible": true
    },
    "kernelspec": {
      "name": "python3",
      "display_name": "Python 3"
    }
  },
  "cells": [
    {
      "cell_type": "code",
      "metadata": {
        "colab": {
          "base_uri": "https://localhost:8080/"
        },
        "id": "I-0pReEkp5rR",
        "outputId": "24cd6be4-a829-4760-af08-a4f34637ac42"
      },
      "source": [
        "from google.colab import drive\n",
        "drive.mount('/content/drive/')"
      ],
      "execution_count": 1,
      "outputs": [
        {
          "output_type": "stream",
          "text": [
            "Drive already mounted at /content/drive/; to attempt to forcibly remount, call drive.mount(\"/content/drive/\", force_remount=True).\n"
          ],
          "name": "stdout"
        }
      ]
    },
    {
      "cell_type": "code",
      "metadata": {
        "colab": {
          "base_uri": "https://localhost:8080/"
        },
        "id": "D_sa5YEPqUy0",
        "outputId": "991f032e-309a-4d4b-d68b-b285c92cdc87"
      },
      "source": [
        "pip install hazm"
      ],
      "execution_count": 2,
      "outputs": [
        {
          "output_type": "stream",
          "text": [
            "Requirement already satisfied: hazm in /usr/local/lib/python3.6/dist-packages (0.7.0)\n",
            "Requirement already satisfied: nltk==3.3 in /usr/local/lib/python3.6/dist-packages (from hazm) (3.3)\n",
            "Requirement already satisfied: libwapiti>=0.2.1; platform_system != \"Windows\" in /usr/local/lib/python3.6/dist-packages (from hazm) (0.2.1)\n",
            "Requirement already satisfied: six in /usr/local/lib/python3.6/dist-packages (from nltk==3.3->hazm) (1.15.0)\n"
          ],
          "name": "stdout"
        }
      ]
    },
    {
      "cell_type": "markdown",
      "metadata": {
        "id": "_go5fV12FkbE"
      },
      "source": [
        "## Prerequisites"
      ]
    },
    {
      "cell_type": "markdown",
      "metadata": {
        "id": "RHTMpcYXMuoa"
      },
      "source": [
        "### Importing Necessary Libraries"
      ]
    },
    {
      "cell_type": "code",
      "metadata": {
        "id": "Ft_wXBweFj_0"
      },
      "source": [
        "import numpy as np\n",
        "import pandas as pd\n",
        "from sklearn.feature_selection import SelectKBest, chi2\n",
        "from sklearn.metrics import classification_report, confusion_matrix\n",
        "from sklearn.model_selection import GridSearchCV\n",
        "from matplotlib import pyplot as plt"
      ],
      "execution_count": 3,
      "outputs": []
    },
    {
      "cell_type": "markdown",
      "metadata": {
        "id": "4tqdnkDOHTXE"
      },
      "source": [
        "### Confusion Matrix Plotting Tool"
      ]
    },
    {
      "cell_type": "code",
      "metadata": {
        "id": "u-Rc5RcTVAGl"
      },
      "source": [
        "def plot_confusion_matrix(y_true, y_pred, classes,\n",
        "                          normalize=False,\n",
        "                          title=None,\n",
        "                          cmap=plt.cm.Blues):\n",
        "    \"\"\"\n",
        "    This function prints and plots the confusion matrix.\n",
        "    Normalization can be applied by setting `normalize=True`.\n",
        "    \"\"\"\n",
        "    if not title:\n",
        "        if normalize:\n",
        "            title = 'Normalized Confusion Matrix'\n",
        "        else:\n",
        "            title = 'Confusion Matrix, without normalization'\n",
        "\n",
        "    # Compute confusion matrix\n",
        "    cm = confusion_matrix(y_true, y_pred)\n",
        "    # Only use the labels that appear in the data\n",
        "    # classes = classes[unique_labels(y_true, y_pred)]\n",
        "    if normalize:\n",
        "        cm = cm.astype('float') / cm.sum(axis=1)[:, np.newaxis]\n",
        "        print(\"Normalized Confusion Matrix\")\n",
        "    else:\n",
        "        print('Confusion Matrix, without normalization')\n",
        "\n",
        "    print(cm)\n",
        "\n",
        "    fig, ax = plt.subplots()\n",
        "    im = ax.imshow(cm, interpolation='nearest', cmap=cmap)\n",
        "    ax.figure.colorbar(im, ax=ax)\n",
        "    # We want to show all ticks...\n",
        "    ax.set(xticks=np.arange(cm.shape[1]),\n",
        "           yticks=np.arange(cm.shape[0]),\n",
        "           # ... and label them with the respective list entries\n",
        "           xticklabels=classes, yticklabels=classes,\n",
        "           title=title,\n",
        "           ylabel='True label',\n",
        "           xlabel='Predicted label')\n",
        "\n",
        "    # Rotate the tick labels and set their alignment.\n",
        "    plt.setp(ax.get_xticklabels(), rotation=45, ha=\"right\",\n",
        "             rotation_mode=\"anchor\")\n",
        "\n",
        "    # Loop over data dimensions and create text annotations.\n",
        "    fmt = '.2f' if normalize else 'd'\n",
        "    thresh = cm.max() / 2.\n",
        "    for i in range(cm.shape[0]):\n",
        "        for j in range(cm.shape[1]):\n",
        "            ax.text(j, i, format(cm[i, j], fmt),\n",
        "                    ha=\"center\", va=\"center\",\n",
        "                    color=\"white\" if cm[i, j] > thresh else \"black\")\n",
        "    fig.tight_layout()\n",
        "    plt.xlim(-0.5, len(np.unique(y_test))-0.5)\n",
        "    plt.ylim(len(np.unique(y_test))-0.5, -0.5)\n",
        "    return ax"
      ],
      "execution_count": 4,
      "outputs": []
    },
    {
      "cell_type": "markdown",
      "metadata": {
        "id": "t4uknHDkNXA6"
      },
      "source": [
        "### Character Set & File Paths"
      ]
    },
    {
      "cell_type": "code",
      "metadata": {
        "id": "5eYQuN3FqcZC"
      },
      "source": [
        "file_path = '/content/drive/My Drive/Colab Notebooks/Social Computing/emails/'\n",
        "\n",
        "persian_chars = {'آ', 'ا', 'ب', 'پ', 'ت', 'ث', 'ج', 'چ', 'ح', 'خ', 'د', 'ذ', 'ر',\n",
        "                 'ز', 'ژ', 'س', 'ش', 'ص', 'ض', 'ط', 'ظ', 'ع', 'غ', 'ف', 'ق', 'ک',\n",
        "                 'گ', 'ل', 'م', 'ن', 'و', 'ه', 'ی', ' ', '‌'}"
      ],
      "execution_count": 5,
      "outputs": []
    },
    {
      "cell_type": "markdown",
      "metadata": {
        "id": "RpJ2AS2fH189"
      },
      "source": [
        "### Normalizing the Character Set"
      ]
    },
    {
      "cell_type": "code",
      "metadata": {
        "id": "jP6teGKtvxf6"
      },
      "source": [
        "# Removing illegal characters\n",
        "def clean_chars(data):\n",
        "    text = ''\n",
        "    for i in range(len(data)):\n",
        "        if data[i] not in persian_chars:\n",
        "            if data[i] == 'ي':\n",
        "                text += 'ی'\n",
        "            elif data[i] == 'أ' or data[i] == 'إ':\n",
        "                text += 'ا'\n",
        "            elif data[i] == 'ك':\n",
        "                text += 'ک'\n",
        "            else:\n",
        "                text += ' '\n",
        "        else:\n",
        "            text += data[i]\n",
        "    data = text\n",
        "    return data"
      ],
      "execution_count": 6,
      "outputs": []
    },
    {
      "cell_type": "code",
      "metadata": {
        "id": "d53q0SnDyG35"
      },
      "source": [
        "ham_training = []\n",
        "spam_training = []\n",
        "ham_testing = []\n",
        "spam_testing = []\n",
        "\n",
        "# A set of all unique words\n",
        "vocab = set()"
      ],
      "execution_count": 7,
      "outputs": []
    },
    {
      "cell_type": "markdown",
      "metadata": {
        "id": "pA8TeORZhU3t"
      },
      "source": [
        "### Preprocessing Tools"
      ]
    },
    {
      "cell_type": "code",
      "metadata": {
        "id": "LBCFmljE3pBv"
      },
      "source": [
        "from __future__ import unicode_literals\n",
        "from hazm import *\n",
        "normalize = Normalizer().normalize\n",
        "stem = Stemmer().stem\n",
        "stopwords = set(stopwords_list())"
      ],
      "execution_count": 8,
      "outputs": []
    },
    {
      "cell_type": "markdown",
      "metadata": {
        "id": "sacx6_lC110v"
      },
      "source": [
        "## Reading *Training* files\n",
        "Removing unwanted characters and stopwords, normalizing, and decompossing into words.\n",
        "Then converting the words to their stems."
      ]
    },
    {
      "cell_type": "code",
      "metadata": {
        "id": "R6riIqHfwccr"
      },
      "source": [
        "# Iterating through 300 training tweets\n",
        "for i in range(300):\n",
        "\n",
        "    # Name of the corresponding \"ham\" file\n",
        "    file_name = 'hamtraining (' + str(i + 1) + ').txt'\n",
        "    # Opening the file\n",
        "    with open(file_path + 'hamtraining/' + file_name, encoding='utf-8') as tweet:\n",
        "        # Cleaning the text, Normalizing it, and the splitting into words\n",
        "        ham_training.append(word_tokenize(normalize(clean_chars(tweet.read()))))\n",
        "    # Omitting stopwords and stemming the remaining words\n",
        "    temp = []\n",
        "    for j in range(len(ham_training[i])):\n",
        "        if ham_training[i][j] not in stopwords:\n",
        "            temp.append(stem(ham_training[i][j]))\n",
        "            if stem(ham_training[i][j]) not in vocab:\n",
        "                vocab.add(stem(ham_training[i][j]))\n",
        "    ham_training[i] = temp\n",
        "    # Closing the file\n",
        "    tweet.close()\n",
        "\n",
        "    # Name of the corresponding \"spam\" file\n",
        "    file_name = 'spamtraining (' + str(i + 1) + ').txt'\n",
        "    # Opening the file\n",
        "    with open(file_path + 'spamtraining/' + file_name, encoding='utf-8') as tweet:\n",
        "        # Cleaning the text, Normalizing it, and the splitting into words\n",
        "        spam_training.append(word_tokenize(normalize(clean_chars(tweet.read()))))\n",
        "    # Omitting stopwords and stemming the remaining words\n",
        "    temp = []\n",
        "    for j in range(len(spam_training[i])):\n",
        "        if spam_training[i][j] not in stopwords:\n",
        "            temp.append(stem(spam_training[i][j]))\n",
        "            if stem(spam_training[i][j]) not in vocab:\n",
        "                vocab.add(stem(spam_training[i][j]))\n",
        "    spam_training[i] = temp\n",
        "    # Closing the file\n",
        "    tweet.close()"
      ],
      "execution_count": 9,
      "outputs": []
    },
    {
      "cell_type": "markdown",
      "metadata": {
        "id": "Pqz0RdV62PNB"
      },
      "source": [
        "## Reading *Testing* files\n",
        "Removing unwanted characters and stopwords, normalizing, and decompossing into words.\n",
        "Then converting the words to their stems."
      ]
    },
    {
      "cell_type": "code",
      "metadata": {
        "id": "geBjggaF2XA3"
      },
      "source": [
        "# Iterating through 200 testing tweets\n",
        "for i in range(200):\n",
        "\n",
        "    # Name of the corresponding \"ham\" file\n",
        "    file_name = 'hamtesting (' + str(i + 1) + ').txt'\n",
        "    # Opening the file\n",
        "    with open(file_path + 'hamtesting/' + file_name, encoding='utf-8') as tweet:\n",
        "        # Cleaning the text, Normalizing it, and the splitting into words\n",
        "        ham_testing.append(word_tokenize(normalize(clean_chars(tweet.read()))))\n",
        "    # Omitting stopwords and stemming the remaining words\n",
        "    temp = []\n",
        "    for j in range(len(ham_testing[i])):\n",
        "        if ham_testing[i][j] not in stopwords:\n",
        "            temp.append(stem(ham_testing[i][j]))\n",
        "    ham_testing[i] = temp\n",
        "    # Closing the file\n",
        "    tweet.close()\n",
        "\n",
        "    # Name of the corresponding \"spam\" file\n",
        "    file_name = 'spamtesting (' + str(i + 1) + ').txt'\n",
        "    # Opening the file\n",
        "    with open(file_path + 'spamtesting/' + file_name, encoding='utf-8') as tweet:\n",
        "        # Cleaning the text, Normalizing it, and the splitting into words\n",
        "        spam_testing.append(word_tokenize(normalize(clean_chars(tweet.read()))))\n",
        "    # Omitting stopwords and stemming the remaining words\n",
        "    temp = []\n",
        "    for j in range(len(spam_testing[i])):\n",
        "        if spam_testing[i][j] not in stopwords:\n",
        "            temp.append(stem(spam_testing[i][j]))\n",
        "    spam_testing[i] = temp\n",
        "    # Closing the file\n",
        "    tweet.close()"
      ],
      "execution_count": 10,
      "outputs": []
    },
    {
      "cell_type": "markdown",
      "metadata": {
        "id": "ssDbsKDIIK13"
      },
      "source": [
        "## Convertion to Data Frames\n",
        "Constructing *`DataFrame`s* from lists, using *`pandas`*."
      ]
    },
    {
      "cell_type": "code",
      "metadata": {
        "id": "j3-idjwuo5TC"
      },
      "source": [
        "df_train = pd.DataFrame(list(zip(ham_training + spam_training, [False] * 300 + [True] * 300)), columns=['email', 'is_spam'])\n",
        "df_test = pd.DataFrame(list(zip(ham_testing + spam_testing, [False] * 200 + [True] * 200)), columns=['email', 'is_spam'])"
      ],
      "execution_count": 11,
      "outputs": []
    },
    {
      "cell_type": "markdown",
      "metadata": {
        "id": "jDGniMsLJHOT"
      },
      "source": [
        "## Generating *Pickle* files\n",
        "Constructing *Word-to-Index* and *Index-to-Word* dictionaries."
      ]
    },
    {
      "cell_type": "code",
      "metadata": {
        "id": "89I7vBMVhiE7"
      },
      "source": [
        "word2index = dict((word, index) for index, word in enumerate(vocab))\n",
        "index2word = dict((index, word) for index, word in enumerate(vocab))"
      ],
      "execution_count": 12,
      "outputs": []
    },
    {
      "cell_type": "markdown",
      "metadata": {
        "id": "HvXBMScDJdVz"
      },
      "source": [
        "## Count Vectorizer"
      ]
    },
    {
      "cell_type": "code",
      "metadata": {
        "id": "KXC-z6i3gdSG"
      },
      "source": [
        "count_vector = np.zeros((600, len(vocab)))\n",
        "for i in range(600):\n",
        "    for word in df_train['email'][i]:\n",
        "        count_vector[i, word2index[word]] += 1"
      ],
      "execution_count": 13,
      "outputs": []
    },
    {
      "cell_type": "markdown",
      "metadata": {
        "id": "A4xmy7HqJnF1"
      },
      "source": [
        "## $cosine$ Similarity"
      ]
    },
    {
      "cell_type": "code",
      "metadata": {
        "id": "Q9I9n8Gdmiby"
      },
      "source": [
        "def cosine_similarity(a, b):\n",
        "    return np.dot(a, b) / (np.linalg.norm(a) * np.linalg.norm(b))"
      ],
      "execution_count": 14,
      "outputs": []
    },
    {
      "cell_type": "markdown",
      "metadata": {
        "id": "uuKcyhr7KD-l"
      },
      "source": [
        "## **$KNN$** using $cosine$ Similarity Metric"
      ]
    },
    {
      "cell_type": "code",
      "metadata": {
        "id": "qzAzpZOYsp7N"
      },
      "source": [
        "# Default: k = 5\n",
        "def KNN_cosine_similarity(X_train, y_train, email, k=5):\n",
        "    email_vector = np.zeros(len(vocab))\n",
        "    for word in email:\n",
        "        if word in vocab:\n",
        "            email_vector[word2index[word]] += 1\n",
        "\n",
        "    # Distances in a dictionary with index as the primary key\n",
        "    distance = {}\n",
        "    for i in range(600):\n",
        "        distance[i] = cosine_similarity(email_vector, count_vector[i])\n",
        "\n",
        "    # Sorting distances into descending order\n",
        "    sorted_distance = sorted(distance.items(), key=lambda kv: kv[1], reverse=True)\n",
        "\n",
        "    # k neerest neighbors\n",
        "    top_k = sorted_distance[:k]\n",
        "\n",
        "    # Flag as \"Genuine\"-->False or \"Spam\"-->True\n",
        "    category = 0\n",
        "    for neighbor in top_k:\n",
        "        if y_train[neighbor[0]]:\n",
        "            category += 1\n",
        "        else:\n",
        "            category -= 1\n",
        "    if category > 0:\n",
        "        return True\n",
        "    \n",
        "    return False"
      ],
      "execution_count": 15,
      "outputs": []
    },
    {
      "cell_type": "markdown",
      "metadata": {
        "id": "N4iVvKCFLVxc"
      },
      "source": [
        "### Prediction of the *Test* Data\n",
        "**Set** $K=7$."
      ]
    },
    {
      "cell_type": "code",
      "metadata": {
        "id": "Va7LhR2Hx4tt"
      },
      "source": [
        "y_test = [False] * 200 + [True] * 200\n",
        "y_prediction = [KNN_cosine_similarity(df_train['email'], df_train['is_spam'],\n",
        "                                      df_test['email'][i], k=7) for i in range(400)]"
      ],
      "execution_count": 16,
      "outputs": []
    },
    {
      "cell_type": "markdown",
      "metadata": {
        "id": "NFVEcoQSL-v7"
      },
      "source": [
        "#### Classification Report"
      ]
    },
    {
      "cell_type": "code",
      "metadata": {
        "colab": {
          "base_uri": "https://localhost:8080/"
        },
        "id": "WeB8dPsdRHBL",
        "outputId": "491089c5-e9de-41c3-c03e-3cfa67b3c612"
      },
      "source": [
        "print(classification_report(y_test, y_prediction))"
      ],
      "execution_count": 17,
      "outputs": [
        {
          "output_type": "stream",
          "text": [
            "              precision    recall  f1-score   support\n",
            "\n",
            "       False       0.95      0.91      0.93       200\n",
            "        True       0.91      0.95      0.93       200\n",
            "\n",
            "    accuracy                           0.93       400\n",
            "   macro avg       0.93      0.93      0.93       400\n",
            "weighted avg       0.93      0.93      0.93       400\n",
            "\n"
          ],
          "name": "stdout"
        }
      ]
    },
    {
      "cell_type": "markdown",
      "metadata": {
        "id": "N_bo9FAfOJIL"
      },
      "source": [
        "#### Plotting the Confusion Matrix"
      ]
    },
    {
      "cell_type": "code",
      "metadata": {
        "id": "PADwgcK1Wiph",
        "colab": {
          "base_uri": "https://localhost:8080/",
          "height": 352
        },
        "outputId": "9fc811aa-4677-481c-c440-15a827be3ab7"
      },
      "source": [
        "plt.show(plot_confusion_matrix(y_test, y_prediction, classes=['Genuine', 'Spam'], normalize=True))"
      ],
      "execution_count": 18,
      "outputs": [
        {
          "output_type": "stream",
          "text": [
            "Normalized Confusion Matrix\n",
            "[[0.91  0.09 ]\n",
            " [0.045 0.955]]\n"
          ],
          "name": "stdout"
        },
        {
          "output_type": "display_data",
          "data": {
            "image/png": "[encoded data removed]",
            "text/plain": [
              "<Figure size 432x288 with 2 Axes>"
            ]
          },
          "metadata": {
            "tags": [],
            "needs_background": "light"
          }
        }
      ]
    },
    {
      "cell_type": "markdown",
      "metadata": {
        "id": "HZN-F_MOK2iy"
      },
      "source": [
        "## **$KNN$** using $TF/IDF$ Score Metric"
      ]
    },
    {
      "cell_type": "markdown",
      "metadata": {
        "id": "MHmhHrklQegC"
      },
      "source": [
        "**Term Frequency (TF)** computation function"
      ]
    },
    {
      "cell_type": "code",
      "metadata": {
        "id": "HX_Rar8Or8xc"
      },
      "source": [
        "def TF(wordDict, bagOfWords):\n",
        "    tf_dict = {}\n",
        "    bagOfWordsCount = len(bagOfWords)\n",
        "    for word, count in wordDict.items():\n",
        "        if count:\n",
        "            tf_dict[word] = np.log(count) + 1\n",
        "        else:\n",
        "            tf_dict[word] = 0\n",
        "    return tf_dict"
      ],
      "execution_count": 19,
      "outputs": []
    },
    {
      "cell_type": "markdown",
      "metadata": {
        "id": "1CxSzL4GQ-YT"
      },
      "source": [
        "**Inverse Document Frequency (IDF)** computation function"
      ]
    },
    {
      "cell_type": "code",
      "metadata": {
        "id": "UwbFjgwBFYIZ"
      },
      "source": [
        "def IDF(vocab):\n",
        "    N = len(df_train)\n",
        "    \n",
        "    idf_dict = dict.fromkeys(vocab, 0)\n",
        "    for email in df_train['email']:\n",
        "        for word in email:\n",
        "            idf_dict[word] += 1\n",
        "    \n",
        "    for word, val in idf_dict.items():\n",
        "        idf_dict[word] = np.log(N / float(val))\n",
        "    return idf_dict"
      ],
      "execution_count": 20,
      "outputs": []
    },
    {
      "cell_type": "markdown",
      "metadata": {
        "id": "Jy7rmvzxRwki"
      },
      "source": [
        "**Term Frequency/Inverse Document Frequency (TF/IDF)** computation function"
      ]
    },
    {
      "cell_type": "code",
      "metadata": {
        "id": "qxxxDkdrkAw6"
      },
      "source": [
        "def TFIDF(tfBagOfWords, idf):\n",
        "    tfidf = {}\n",
        "    for word, value in tfBagOfWords.items():\n",
        "        tfidf[word] = value * idf[word]\n",
        "    return tfidf"
      ],
      "execution_count": 21,
      "outputs": []
    },
    {
      "cell_type": "code",
      "metadata": {
        "id": "cIg7yk-Lm6EO"
      },
      "source": [
        "# Default: k = 5\n",
        "def KNN_TFIDF(X_train, y_train, email, k=5):\n",
        "    email_vector = np.zeros(len(vocab))\n",
        "    for word in email:\n",
        "        if word in vocab:\n",
        "            email_vector[word2index[word]] += 1\n",
        "\n",
        "    # Distances in a dictionary with index as the primary key\n",
        "    distance = {}\n",
        "\n",
        "    # Inverse Document Frequency\n",
        "    idf = IDF(vocab)\n",
        "\n",
        "    # Computing TF/IDF score for all words in the new email\n",
        "    for i in range(600):\n",
        "        number_of_words = dict.fromkeys(vocab, 0)\n",
        "        for word in df_train['email'][i]:\n",
        "            number_of_words[word] += 1\n",
        "        score = 0\n",
        "        tf = TF(number_of_words, df_train['email'][i])\n",
        "        for word in email:\n",
        "            if word in tf and word in idf:\n",
        "                score += tf[word] * idf[word]\n",
        "        distance[i] = score\n",
        "\n",
        "    # Sorting distances into descending order\n",
        "    sorted_distance = sorted(distance.items(), key=lambda kv: kv[1], reverse=True)\n",
        "\n",
        "    # k neerest neighbors\n",
        "    top_k = sorted_distance[:k]\n",
        "    \n",
        "    # Flag as \"Genuine\"-->False or \"Spam\"-->True\n",
        "    category = 0\n",
        "    for neighbor in top_k:\n",
        "        if y_train[neighbor[0]]:\n",
        "            category += 1\n",
        "        else:\n",
        "            category -= 1\n",
        "    if category > 0:\n",
        "        return True\n",
        "    \n",
        "    return False"
      ],
      "execution_count": 22,
      "outputs": []
    },
    {
      "cell_type": "markdown",
      "metadata": {
        "id": "PGhzfchAOiui"
      },
      "source": [
        "### Prediction of the *Test* Data\n",
        "**Set** $K=7$."
      ]
    },
    {
      "cell_type": "code",
      "metadata": {
        "id": "_-jasfe35J46"
      },
      "source": [
        "y_test = [False] * 200 + [True] * 200\n",
        "y_prediction = [KNN_TFIDF(df_train['email'], df_train['is_spam'],\n",
        "                    df_test['email'][i], k=7) for i in range(400)]"
      ],
      "execution_count": 23,
      "outputs": []
    },
    {
      "cell_type": "markdown",
      "metadata": {
        "id": "iPbAiv-oOw8D"
      },
      "source": [
        "#### Classification Report"
      ]
    },
    {
      "cell_type": "code",
      "metadata": {
        "id": "3V0uqO2XAXZo",
        "colab": {
          "base_uri": "https://localhost:8080/"
        },
        "outputId": "5cf0a99f-abc5-46b5-ee03-e15e6ab3b5a4"
      },
      "source": [
        "print(classification_report(y_test, y_prediction))"
      ],
      "execution_count": 24,
      "outputs": [
        {
          "output_type": "stream",
          "text": [
            "              precision    recall  f1-score   support\n",
            "\n",
            "       False       0.96      0.82      0.89       200\n",
            "        True       0.85      0.97      0.90       200\n",
            "\n",
            "    accuracy                           0.90       400\n",
            "   macro avg       0.91      0.90      0.90       400\n",
            "weighted avg       0.91      0.90      0.90       400\n",
            "\n"
          ],
          "name": "stdout"
        }
      ]
    },
    {
      "cell_type": "markdown",
      "metadata": {
        "id": "x7tL41p9OrmB"
      },
      "source": [
        "#### Plotting the Confusion Matrix"
      ]
    },
    {
      "cell_type": "code",
      "metadata": {
        "id": "0Q0R3LYpEZly",
        "colab": {
          "base_uri": "https://localhost:8080/",
          "height": 352
        },
        "outputId": "487b10a1-a3d3-4c4c-97b5-87328c45a376"
      },
      "source": [
        "plt.show(plot_confusion_matrix(y_test, y_prediction, classes=['Genuine', 'Spam'], normalize=True))"
      ],
      "execution_count": 25,
      "outputs": [
        {
          "output_type": "stream",
          "text": [
            "Normalized Confusion Matrix\n",
            "[[0.825 0.175]\n",
            " [0.03  0.97 ]]\n"
          ],
          "name": "stdout"
        },
        {
          "output_type": "display_data",
          "data": {
            "image/png": "[encoded data removed]",
            "text/plain": [
              "<Figure size 432x288 with 2 Axes>"
            ]
          },
          "metadata": {
            "tags": [],
            "needs_background": "light"
          }
        }
      ]
    },
    {
      "cell_type": "markdown",
      "metadata": {
        "id": "Vnv29mC0DRws"
      },
      "source": [
        "## Using $\\chi^2$ to Find the Most Determinal Words"
      ]
    },
    {
      "cell_type": "code",
      "metadata": {
        "id": "0--pwLiZS1YR",
        "colab": {
          "base_uri": "https://localhost:8080/",
          "height": 424
        },
        "outputId": "b6def4b7-a8a4-457d-ebe5-c6e04c089ea9"
      },
      "source": [
        "# Select 200 features with highest chi-squared statistics\n",
        "chi2_selector = SelectKBest(chi2, k=200)\n",
        "chi2_selector.fit(count_vector, df_train['is_spam'])\n",
        "\n",
        "# Look at scores returned from the selector for each feature\n",
        "chi2_scores = pd.DataFrame(list(zip(vocab, chi2_selector.scores_, chi2_selector.pvalues_)), \n",
        "                                       columns=['feature', 'score', 'p-value'])\n",
        "\n",
        "chi2_scores.sort_values(by=['score'], ascending=False)[:200]"
      ],
      "execution_count": 26,
      "outputs": [
        {
          "output_type": "execute_result",
          "data": {
            "text/html": [
              "<div>\n",
              "<style scoped>\n",
              "    .dataframe tbody tr th:only-of-type {\n",
              "        vertical-align: middle;\n",
              "    }\n",
              "\n",
              "    .dataframe tbody tr th {\n",
              "        vertical-align: top;\n",
              "    }\n",
              "\n",
              "    .dataframe thead th {\n",
              "        text-align: right;\n",
              "    }\n",
              "</style>\n",
              "<table border=\"1\" class=\"dataframe\">\n",
              "  <thead>\n",
              "    <tr style=\"text-align: right;\">\n",
              "      <th></th>\n",
              "      <th>feature</th>\n",
              "      <th>score</th>\n",
              "      <th>p-value</th>\n",
              "    </tr>\n",
              "  </thead>\n",
              "  <tbody>\n",
              "    <tr>\n",
              "      <th>3509</th>\n",
              "      <td>خرید</td>\n",
              "      <td>1109.088574</td>\n",
              "      <td>3.495767e-243</td>\n",
              "    </tr>\n",
              "    <tr>\n",
              "      <th>8243</th>\n",
              "      <td>محصول</td>\n",
              "      <td>746.414322</td>\n",
              "      <td>2.415792e-164</td>\n",
              "    </tr>\n",
              "    <tr>\n",
              "      <th>8743</th>\n",
              "      <td>تو</td>\n",
              "      <td>666.595573</td>\n",
              "      <td>5.495031e-147</td>\n",
              "    </tr>\n",
              "    <tr>\n",
              "      <th>156</th>\n",
              "      <td>قیم</td>\n",
              "      <td>637.590842</td>\n",
              "      <td>1.116602e-140</td>\n",
              "    </tr>\n",
              "    <tr>\n",
              "      <th>2369</th>\n",
              "      <td>پست</td>\n",
              "      <td>515.007707</td>\n",
              "      <td>5.160494e-114</td>\n",
              "    </tr>\n",
              "    <tr>\n",
              "      <th>...</th>\n",
              "      <td>...</td>\n",
              "      <td>...</td>\n",
              "      <td>...</td>\n",
              "    </tr>\n",
              "    <tr>\n",
              "      <th>8491</th>\n",
              "      <td>غذا</td>\n",
              "      <td>46.620690</td>\n",
              "      <td>8.614589e-12</td>\n",
              "    </tr>\n",
              "    <tr>\n",
              "      <th>4275</th>\n",
              "      <td>ایجاد</td>\n",
              "      <td>46.612903</td>\n",
              "      <td>8.648887e-12</td>\n",
              "    </tr>\n",
              "    <tr>\n",
              "      <th>6899</th>\n",
              "      <td>دقیقه</td>\n",
              "      <td>46.538462</td>\n",
              "      <td>8.983769e-12</td>\n",
              "    </tr>\n",
              "    <tr>\n",
              "      <th>5127</th>\n",
              "      <td>بذر</td>\n",
              "      <td>46.000000</td>\n",
              "      <td>1.182530e-11</td>\n",
              "    </tr>\n",
              "    <tr>\n",
              "      <th>7536</th>\n",
              "      <td>تعمیر</td>\n",
              "      <td>46.000000</td>\n",
              "      <td>1.182530e-11</td>\n",
              "    </tr>\n",
              "  </tbody>\n",
              "</table>\n",
              "<p>200 rows × 3 columns</p>\n",
              "</div>"
            ],
            "text/plain": [
              "     feature        score        p-value\n",
              "3509    خرید  1109.088574  3.495767e-243\n",
              "8243   محصول   746.414322  2.415792e-164\n",
              "8743      تو   666.595573  5.495031e-147\n",
              "156      قیم   637.590842  1.116602e-140\n",
              "2369     پست   515.007707  5.160494e-114\n",
              "...      ...          ...            ...\n",
              "8491     غذا    46.620690   8.614589e-12\n",
              "4275   ایجاد    46.612903   8.648887e-12\n",
              "6899   دقیقه    46.538462   8.983769e-12\n",
              "5127     بذر    46.000000   1.182530e-11\n",
              "7536   تعمیر    46.000000   1.182530e-11\n",
              "\n",
              "[200 rows x 3 columns]"
            ]
          },
          "metadata": {
            "tags": []
          },
          "execution_count": 26
        }
      ]
    }
  ]
}